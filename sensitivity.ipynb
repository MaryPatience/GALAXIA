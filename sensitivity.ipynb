{
 "cells": [
  {
   "cell_type": "markdown",
   "id": "9acc449f-114d-4b93-923f-46ec5f0464d3",
   "metadata": {},
   "source": [
    "### SENSITIVITY"
   ]
  },
  {
   "cell_type": "code",
   "execution_count": 73,
   "id": "f24d13c8-2ada-4a87-a29b-728575112b4a",
   "metadata": {},
   "outputs": [],
   "source": [
    "'''\n",
    "Our energy range will be 50-150 KeV\n",
    "'''\n",
    "\n",
    "def sens(energy_init, energy_final, t, attenuation_txt, rho_dect, thickness_dect, A_dect,theta,\\\n",
    "         shield_leakage_txt, thickness_shield, neutron_spallation_txt):\n",
    "\n",
    "    import numpy as np\n",
    "    import matplotlib.pyplot as plt\n",
    "    from scipy.interpolate import interp1d\n",
    "    import scienceplots\n",
    "    import pandas as pd\n",
    "    plt.style.use(['science','no-latex'])\n",
    "    \n",
    "    energy = np.array(np.loadtxt(attenuation_txt)[:,0]*1000) #KeV\n",
    "    mu = np.array(np.loadtxt(attenuation_txt)[:,1]*rho_dect) #cm^-1\n",
    "    #logE, logmu = np.log10(energy), np.log10(mu)\n",
    "    \n",
    "    '''\n",
    "    We need to find the K-edge before we do an interpolation for our data (if it exists)\n",
    "    '''\n",
    "\n",
    "    for i in range(len(mu)-1):\n",
    "\n",
    "        if mu[i+1]-mu[i]>=50: #The gap expected between values should be big\n",
    "            \n",
    "            k_edge = i\n",
    "\n",
    "\n",
    "            '''\n",
    "            Once we obtained it, we interpolate our data\n",
    "            '''\n",
    "            \n",
    "            f1 = interp1d(energy[:k_edge+1], mu[:k_edge+1])\n",
    "            f2 = interp1d(energy[k_edge:], mu[k_edge:])\n",
    "\n",
    "            xnew1 = np.linspace(energy_init, energy[k_edge], 500)\n",
    "            ynew1 = f1(xnew1)   \n",
    "        \n",
    "            xnew2 = np.linspace(energy[k_edge],energy_final,501)\n",
    "            ynew2 = f2(xnew2) \n",
    "        \n",
    "            xnew=np.concatenate((xnew1,xnew2))\n",
    "            ynew=np.concatenate((ynew1,ynew2))\n",
    "\n",
    "            \n",
    "            break\n",
    "\n",
    "        else:\n",
    "\n",
    "            f = interp1d(energy, mu)\n",
    "\n",
    "            xnew = np.linspace(energy_init, energy_final, 1001)\n",
    "            ynew = f(xnew) \n",
    "\n",
    "    #EFFICIENCY\n",
    "\n",
    "    efficiency = 1-np.exp(-rho_dect*thickness_dect*ynew)\n",
    "    #efficiency2 = 1-np.exp(-rho*thickness*ynew2)\n",
    "\n",
    "    #efficiency=efficiency1+efficiency2\n",
    "\n",
    "\n",
    "    #BACKGROUND NOISE\n",
    "\n",
    "    #Aperture leakage\n",
    "\n",
    "    b_cxb = efficiency*87.4*xnew**(-2.3)*np.pi*theta**2 #photons/cm^2/s/KeV\n",
    "   \n",
    "    #Shield leakage\n",
    "\n",
    "    E_sl = np.array(np.loadtxt(shield_leakage_txt)[:,0]) #KeV\n",
    "    B_sl = np.array(np.loadtxt(shield_leakage_txt)[:,1]) \n",
    "\n",
    "    '''\n",
    "    We should interpolate again just to evaluate the shield leakage in our energy array \n",
    "    '''\n",
    "\n",
    "    f_sl = interp1d(E_sl, B_sl)\n",
    "\n",
    "    bl_5cm = f_sl(xnew)\n",
    "\n",
    "    '''\n",
    "    The data is referred to a shield with 5 cm thickness,\n",
    "    we should convert it for our purposes\n",
    "    '''\n",
    "\n",
    "    b_l=bl_5cm*np.exp(1-(thickness_shield/5)) #cm\n",
    "    \n",
    "\n",
    "\n",
    "    #Neutron and spallation induced\n",
    "\n",
    "    '''\n",
    "    We are choosing a high earth orbit (HEO), so the rigidity will be 2 GV\n",
    "    '''\n",
    "\n",
    "    Ens = np.array(np.loadtxt(neutron_spallation_txt)[:,0]) #KeV\n",
    "    Bns = np.array(np.loadtxt(neutron_spallation_txt)[:,1])/1e3\n",
    "\n",
    "\n",
    "    '''\n",
    "    One more interpolation\n",
    "    '''\n",
    "\n",
    "    f_ns=interp1d(Ens,Bns)\n",
    "\n",
    "    b_ns_fig=f_ns(xnew)\n",
    "\n",
    "    '''\n",
    "    We should correct the neutron-spallation background contribution because we are using another material.\n",
    "    We are taking the rigidity correction factor as  F(Rc)=1.28 \n",
    "    '''\n",
    "    b_ns=1.28*((rho_dect*thickness_dect*A_dect)/(3.67*4400))*b_ns_fig #cgs units\n",
    "\n",
    "\n",
    "    #Total background\n",
    "\n",
    "    b_total=b_cxb+b_l+b_ns\n",
    "\n",
    "\n",
    "    #Sensitivity\n",
    "\n",
    "    sens=(3/efficiency)*np.sqrt(4*b_total/(A_dect*t*xnew))\n",
    "\n",
    "    #plt.subplots(1,1,figsize=(5,5))\n",
    "    plt.plot(xnew,sens,lw=1.5,ls='-.')\n",
    "    plt.xticks(fontsize=14)\n",
    "    plt.yticks(fontsize=14)\n",
    "    #plt.legend(fontsize=14)\n",
    "    plt.gcf().get_axes()[0].yaxis.get_offset_text().set_size(14) \n",
    "    plt.xlabel('E [keV]',fontsize=16)\n",
    "    plt.ylabel('photons $\\\\rm cm^{-2} s^{-1} keV^{-1}$',fontsize=16)\n",
    "\n",
    "    return np.array([b_cxb[0], b_cxb[250], b_cxb[500], b_cxb[750], b_cxb[1000]]),\\\n",
    "                  np.array([b_l[0], b_l[250], b_l[500], b_l[750], b_l[1000]]),\\\n",
    "                           np.array([b_ns[0], b_ns[250], b_ns[500], b_ns[750], b_ns[1000]])"
   ]
  },
  {
   "cell_type": "markdown",
   "id": "3cba7de2-7ba7-4287-b961-cf595f892a97",
   "metadata": {},
   "source": [
    "### SENSITIVITY CURVE"
   ]
  },
  {
   "cell_type": "code",
   "execution_count": 74,
   "id": "a5e28e93-579b-4dec-8afb-a4ae399a9e65",
   "metadata": {},
   "outputs": [
    {
     "data": {
      "image/png": "[encoded data removed]",
      "text/plain": [
       "<Figure size 500x500 with 1 Axes>"
      ]
     },
     "metadata": {},
     "output_type": "display_data"
    }
   ],
   "source": [
    "import matplotlib.pyplot as plt\n",
    "\n",
    "'''\n",
    "More than curve could be plotted at the same time\n",
    "'''\n",
    "plt.subplots(1,1,figsize=(5,5))\n",
    "for n in (81.9e3,90e3):\n",
    "  sens(50,150,n,'CdTe.txt',3.67,1.25,4e4,0.1,\\\n",
    "     'shield_leakage_background_CsI_Tl_5cm.dat',4,'neutron_spallation_background_NaI_Tl_2cm_4p7GV.dat') \n",
    "plt.show()"
   ]
  },
  {
   "cell_type": "markdown",
   "id": "4a82bef1-08bf-4234-b586-9bd14fbe5a60",
   "metadata": {},
   "source": [
    "### BACKGROUND NOISE"
   ]
  },
  {
   "cell_type": "code",
   "execution_count": 75,
   "id": "edbbacf7-f3d8-49f4-89f9-b9165272893a",
   "metadata": {},
   "outputs": [
    {
     "data": {
      "text/plain": [
       "<Figure size 350x262.5 with 0 Axes>"
      ]
     },
     "metadata": {},
     "output_type": "display_data"
    }
   ],
   "source": [
    "a,b,c=sens(50,150,81.9e3,'CdTe.txt',3.67,1.25,4e4,0.1,\\\n",
    "     'shield_leakage_background_CsI_Tl_5cm.dat',5,'neutron_spallation_background_NaI_Tl_2cm_4p7GV.dat') \n",
    "\n",
    "plt.clf()"
   ]
  },
  {
   "cell_type": "markdown",
   "id": "ca3ed1f5-8a45-43dd-afc6-cbcc292f449d",
   "metadata": {},
   "source": [
    "#### Aperture leakage"
   ]
  },
  {
   "cell_type": "code",
   "execution_count": 76,
   "id": "575b92e2-6167-4651-a486-fa5d009094f1",
   "metadata": {},
   "outputs": [
    {
     "data": {
      "text/html": [
       "<style type=\"text/css\">\n",
       "#T_ca291 th {\n",
       "  font-size: 20px;\n",
       "  text-align: center;\n",
       "}\n",
       "#T_ca291_row0_col0, #T_ca291_row0_col1, #T_ca291_row1_col0, #T_ca291_row1_col1, #T_ca291_row2_col0, #T_ca291_row2_col1, #T_ca291_row3_col0, #T_ca291_row3_col1, #T_ca291_row4_col0, #T_ca291_row4_col1 {\n",
       "  text-align: center;\n",
       "  font-size: 20px;\n",
       "}\n",
       "</style>\n",
       "<table id=\"T_ca291\">\n",
       "  <thead>\n",
       "    <tr>\n",
       "      <th id=\"T_ca291_level0_col0\" class=\"col_heading level0 col0\" >E [keV]</th>\n",
       "      <th id=\"T_ca291_level0_col1\" class=\"col_heading level0 col1\" >$\\rm \\boldsymbol{B_{CXB}}$</th>\n",
       "    </tr>\n",
       "  </thead>\n",
       "  <tbody>\n",
       "    <tr>\n",
       "      <td id=\"T_ca291_row0_col0\" class=\"data row0 col0\" >50</td>\n",
       "      <td id=\"T_ca291_row0_col1\" class=\"data row0 col1\" >3.40E-04</td>\n",
       "    </tr>\n",
       "    <tr>\n",
       "      <td id=\"T_ca291_row1_col0\" class=\"data row1 col0\" >75</td>\n",
       "      <td id=\"T_ca291_row1_col1\" class=\"data row1 col1\" >1.34E-04</td>\n",
       "    </tr>\n",
       "    <tr>\n",
       "      <td id=\"T_ca291_row2_col0\" class=\"data row2 col0\" >100</td>\n",
       "      <td id=\"T_ca291_row2_col1\" class=\"data row2 col1\" >6.90E-05</td>\n",
       "    </tr>\n",
       "    <tr>\n",
       "      <td id=\"T_ca291_row3_col0\" class=\"data row3 col0\" >125</td>\n",
       "      <td id=\"T_ca291_row3_col1\" class=\"data row3 col1\" >4.13E-05</td>\n",
       "    </tr>\n",
       "    <tr>\n",
       "      <td id=\"T_ca291_row4_col0\" class=\"data row4 col0\" >150</td>\n",
       "      <td id=\"T_ca291_row4_col1\" class=\"data row4 col1\" >2.71E-05</td>\n",
       "    </tr>\n",
       "  </tbody>\n",
       "</table>\n"
      ],
      "text/plain": [
       "<pandas.io.formats.style.Styler at 0x7f151265d810>"
      ]
     },
     "execution_count": 76,
     "metadata": {},
     "output_type": "execute_result"
    }
   ],
   "source": [
    "import pandas as pd\n",
    "import matplotlib.pyplot as plt\n",
    "\n",
    "\n",
    "\n",
    "df_cxb = pd.DataFrame({\n",
    "    \"E [keV]\": [50, 75, 100, 125, 150],\n",
    "    \"$\\\\rm \\\\boldsymbol{B_{CXB}}$\": [f'{a[0]:.2E}',f'{a[1]:.2E}',f'{a[2]:.2E}',f'{a[3]:.2E}',f'{a[4]:.2E}']})\n",
    "\n",
    "\n",
    "df_cxb.style.format(precision=2, thousands=\",\", decimal=\".\").set_properties(**{'text-align': 'center'})\\\n",
    "   .hide(axis=\"index\").set_properties(**{'font-size': '20px'})\\\n",
    "   .set_table_styles([{'selector': 'th', 'props': [('font-size', '20px'), ('text-align', 'center')]}])\n",
    "\n",
    "\n",
    "\n"
   ]
  },
  {
   "cell_type": "markdown",
   "id": "07e53d62-7fc9-4353-96fb-e52379c0e476",
   "metadata": {},
   "source": [
    "#### Shield leakage"
   ]
  },
  {
   "cell_type": "code",
   "execution_count": 77,
   "id": "f38235dc-b155-4b7e-8004-782b257d5330",
   "metadata": {},
   "outputs": [
    {
     "data": {
      "text/html": [
       "<style type=\"text/css\">\n",
       "#T_e4fe5 th {\n",
       "  font-size: 20px;\n",
       "  text-align: center;\n",
       "}\n",
       "#T_e4fe5_row0_col0, #T_e4fe5_row0_col1, #T_e4fe5_row1_col0, #T_e4fe5_row1_col1, #T_e4fe5_row2_col0, #T_e4fe5_row2_col1, #T_e4fe5_row3_col0, #T_e4fe5_row3_col1, #T_e4fe5_row4_col0, #T_e4fe5_row4_col1 {\n",
       "  text-align: center;\n",
       "  font-size: 20px;\n",
       "}\n",
       "</style>\n",
       "<table id=\"T_e4fe5\">\n",
       "  <thead>\n",
       "    <tr>\n",
       "      <th id=\"T_e4fe5_level0_col0\" class=\"col_heading level0 col0\" >E [keV]</th>\n",
       "      <th id=\"T_e4fe5_level0_col1\" class=\"col_heading level0 col1\" >$\\rm \\boldsymbol{B_{l}}$</th>\n",
       "    </tr>\n",
       "  </thead>\n",
       "  <tbody>\n",
       "    <tr>\n",
       "      <td id=\"T_e4fe5_row0_col0\" class=\"data row0 col0\" >50</td>\n",
       "      <td id=\"T_e4fe5_row0_col1\" class=\"data row0 col1\" >9.09E-04</td>\n",
       "    </tr>\n",
       "    <tr>\n",
       "      <td id=\"T_e4fe5_row1_col0\" class=\"data row1 col0\" >75</td>\n",
       "      <td id=\"T_e4fe5_row1_col1\" class=\"data row1 col1\" >8.85E-04</td>\n",
       "    </tr>\n",
       "    <tr>\n",
       "      <td id=\"T_e4fe5_row2_col0\" class=\"data row2 col0\" >100</td>\n",
       "      <td id=\"T_e4fe5_row2_col1\" class=\"data row2 col1\" >8.49E-04</td>\n",
       "    </tr>\n",
       "    <tr>\n",
       "      <td id=\"T_e4fe5_row3_col0\" class=\"data row3 col0\" >125</td>\n",
       "      <td id=\"T_e4fe5_row3_col1\" class=\"data row3 col1\" >8.00E-04</td>\n",
       "    </tr>\n",
       "    <tr>\n",
       "      <td id=\"T_e4fe5_row4_col0\" class=\"data row4 col0\" >150</td>\n",
       "      <td id=\"T_e4fe5_row4_col1\" class=\"data row4 col1\" >7.45E-04</td>\n",
       "    </tr>\n",
       "  </tbody>\n",
       "</table>\n"
      ],
      "text/plain": [
       "<pandas.io.formats.style.Styler at 0x7f1511af3460>"
      ]
     },
     "execution_count": 77,
     "metadata": {},
     "output_type": "execute_result"
    }
   ],
   "source": [
    "\n",
    "df_l = pd.DataFrame({\n",
    "    \"E [keV]\": [50, 75, 100, 125, 150],\n",
    "    \"$\\\\rm \\\\boldsymbol{B_{l}}$\": [f'{b[0]:.2E}',f'{b[1]:.2E}',f'{b[2]:.2E}',f'{b[3]:.2E}',f'{b[4]:.2E}']})\n",
    "\n",
    "\n",
    "df_l.style.format(precision=2, thousands=\",\", decimal=\".\").set_properties(**{'text-align': 'center'})\\\n",
    "   .hide(axis=\"index\").set_properties(**{'font-size': '20px'})\\\n",
    "   .set_table_styles([{'selector': 'th', 'props': [('font-size', '20px'), ('text-align', 'center')]}])\n"
   ]
  },
  {
   "cell_type": "markdown",
   "id": "39afcf6a-5380-4f5b-895d-85249358116e",
   "metadata": {},
   "source": [
    "#### Neutron and spallation induced"
   ]
  },
  {
   "cell_type": "code",
   "execution_count": 78,
   "id": "8674edec-df23-4588-87c8-7b11f3ffdf37",
   "metadata": {},
   "outputs": [
    {
     "data": {
      "text/html": [
       "<style type=\"text/css\">\n",
       "#T_a74d0 th {\n",
       "  font-size: 20px;\n",
       "  text-align: center;\n",
       "}\n",
       "#T_a74d0_row0_col0, #T_a74d0_row0_col1, #T_a74d0_row1_col0, #T_a74d0_row1_col1, #T_a74d0_row2_col0, #T_a74d0_row2_col1, #T_a74d0_row3_col0, #T_a74d0_row3_col1, #T_a74d0_row4_col0, #T_a74d0_row4_col1 {\n",
       "  text-align: center;\n",
       "  font-size: 20px;\n",
       "}\n",
       "</style>\n",
       "<table id=\"T_a74d0\">\n",
       "  <thead>\n",
       "    <tr>\n",
       "      <th id=\"T_a74d0_level0_col0\" class=\"col_heading level0 col0\" >E [keV]</th>\n",
       "      <th id=\"T_a74d0_level0_col1\" class=\"col_heading level0 col1\" >$\\rm \\boldsymbol{B_{n+s}}$</th>\n",
       "    </tr>\n",
       "  </thead>\n",
       "  <tbody>\n",
       "    <tr>\n",
       "      <td id=\"T_a74d0_row0_col0\" class=\"data row0 col0\" >50</td>\n",
       "      <td id=\"T_a74d0_row0_col1\" class=\"data row0 col1\" >2.68E-02</td>\n",
       "    </tr>\n",
       "    <tr>\n",
       "      <td id=\"T_a74d0_row1_col0\" class=\"data row1 col0\" >75</td>\n",
       "      <td id=\"T_a74d0_row1_col1\" class=\"data row1 col1\" >2.69E-02</td>\n",
       "    </tr>\n",
       "    <tr>\n",
       "      <td id=\"T_a74d0_row2_col0\" class=\"data row2 col0\" >100</td>\n",
       "      <td id=\"T_a74d0_row2_col1\" class=\"data row2 col1\" >2.61E-02</td>\n",
       "    </tr>\n",
       "    <tr>\n",
       "      <td id=\"T_a74d0_row3_col0\" class=\"data row3 col0\" >125</td>\n",
       "      <td id=\"T_a74d0_row3_col1\" class=\"data row3 col1\" >2.50E-02</td>\n",
       "    </tr>\n",
       "    <tr>\n",
       "      <td id=\"T_a74d0_row4_col0\" class=\"data row4 col0\" >150</td>\n",
       "      <td id=\"T_a74d0_row4_col1\" class=\"data row4 col1\" >2.36E-02</td>\n",
       "    </tr>\n",
       "  </tbody>\n",
       "</table>\n"
      ],
      "text/plain": [
       "<pandas.io.formats.style.Styler at 0x7f151203d810>"
      ]
     },
     "execution_count": 78,
     "metadata": {},
     "output_type": "execute_result"
    }
   ],
   "source": [
    "df_ns = pd.DataFrame({\n",
    "    \"E [keV]\": [50, 75, 100, 125, 150],\n",
    "    \"$\\\\rm \\\\boldsymbol{B_{n+s}}$\": [f'{c[0]:.2E}',f'{c[1]:.2E}',f'{c[2]:.2E}',f'{c[3]:.2E}',f'{c[4]:.2E}']})\n",
    "\n",
    "\n",
    "df_ns.style.format(precision=2, thousands=\",\", decimal=\".\").set_properties(**{'text-align': 'center'})\\\n",
    "   .hide(axis=\"index\").set_properties(**{'font-size': '20px'})\\\n",
    "     .set_table_styles([{'selector': 'th', 'props': [('font-size', '20px'), ('text-align', 'center')]}])"
   ]
  }
 ],
 "metadata": {
  "kernelspec": {
   "display_name": "Python 3 (ipykernel)",
   "language": "python",
   "name": "python3"
  },
  "language_info": {
   "codemirror_mode": {
    "name": "ipython",
    "version": 3
   },
   "file_extension": ".py",
   "mimetype": "text/x-python",
   "name": "python",
   "nbconvert_exporter": "python",
   "pygments_lexer": "ipython3",
   "version": "3.10.6"
  }
 },
 "nbformat": 4,
 "nbformat_minor": 5
}
